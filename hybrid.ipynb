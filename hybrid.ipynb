{
  "nbformat": 4,
  "nbformat_minor": 0,
  "metadata": {
    "colab": {
      "provenance": [],
      "authorship_tag": "ABX9TyP15Fmwlti/wC1wNvJ5JbJn",
      "include_colab_link": true
    },
    "kernelspec": {
      "name": "python3",
      "display_name": "Python 3"
    },
    "language_info": {
      "name": "python"
    }
  },
  "cells": [
    {
      "cell_type": "markdown",
      "metadata": {
        "id": "view-in-github",
        "colab_type": "text"
      },
      "source": [
        "<a href=\"https://colab.research.google.com/github/SaiVaichal/Hybrid/blob/main/hybrid.ipynb\" target=\"_parent\"><img src=\"https://colab.research.google.com/assets/colab-badge.svg\" alt=\"Open In Colab\"/></a>"
      ]
    },
    {
      "cell_type": "code",
      "execution_count": 1,
      "metadata": {
        "colab": {
          "base_uri": "https://localhost:8080/"
        },
        "id": "lzVjxUOIUHTv",
        "outputId": "77616c08-4f45-4a0c-870d-77ff0ccfb385"
      },
      "outputs": [
        {
          "output_type": "stream",
          "name": "stdout",
          "text": [
            "Encrypted: I JVY RSVJUN\n",
            "Decrypted: HELLO WORLD\n"
          ]
        }
      ],
      "source": [
        "import numpy as np\n",
        "from itertools import cycle\n",
        "\n",
        "def vigenere_encrypt(plaintext, key):\n",
        "    key_cycle = cycle(key)\n",
        "    return ''.join(chr((ord(c) - ord('A') + ord(next(key_cycle).upper()) - ord('A')) % 26 + ord('A')) if c.isalpha() else c for c in plaintext)\n",
        "\n",
        "def vigenere_decrypt(ciphertext, key):\n",
        "    key_cycle = cycle(key)\n",
        "    return ''.join(chr((ord(c) - ord('A') - (ord(next(key_cycle).upper()) - ord('A'))) % 26 + ord('A')) if c.isalpha() else c for c in ciphertext)\n",
        "\n",
        "def columnar_transposition_encrypt(text, key):\n",
        "    columns = len(key)\n",
        "    sorted_key = sorted(enumerate(key), key=lambda x: x[1])\n",
        "    padded_text = text + ' ' * ((columns - len(text) % columns) % columns)\n",
        "    grid = [padded_text[i:i + columns] for i in range(0, len(padded_text), columns)]\n",
        "    return ''.join(''.join(row[i] for row in grid) for i, _ in sorted_key)\n",
        "\n",
        "def columnar_transposition_decrypt(text, key):\n",
        "    columns = len(key)\n",
        "    sorted_key = sorted(enumerate(key), key=lambda x: x[1])\n",
        "    rows = len(text) // columns\n",
        "    grid = [''] * columns\n",
        "    index = 0\n",
        "    for i, _ in sorted_key:\n",
        "        grid[i] = text[index:index + rows]\n",
        "        index += rows\n",
        "    return ''.join(''.join(row[i] for row in grid) for i in range(rows)).rstrip()\n",
        "\n",
        "def hybrid_encrypt(plaintext, vigenere_key, transposition_key):\n",
        "    return columnar_transposition_encrypt(vigenere_encrypt(plaintext, vigenere_key), transposition_key)\n",
        "\n",
        "def hybrid_decrypt(ciphertext, vigenere_key, transposition_key):\n",
        "    return vigenere_decrypt(columnar_transposition_decrypt(ciphertext, transposition_key), vigenere_key)\n",
        "\n",
        "plaintext = \"HELLO WORLD\"\n",
        "vigenere_key = \"KEY\"\n",
        "transposition_key = \"3142\"\n",
        "encrypted = hybrid_encrypt(plaintext, vigenere_key, transposition_key)\n",
        "decrypted = hybrid_decrypt(encrypted, vigenere_key, transposition_key)\n",
        "\n",
        "print(\"Encrypted:\", encrypted)\n",
        "print(\"Decrypted:\", decrypted)\n"
      ]
    }
  ]
}